{
 "cells": [
  {
   "cell_type": "markdown",
   "id": "af8537b0-3418-4554-b5fd-dd1f644b1671",
   "metadata": {},
   "source": [
    "# Data Science Tools and Ecosystem"
   ]
  },
  {
   "cell_type": "markdown",
   "id": "30632b27-d150-4c74-886b-e0be87ed93d8",
   "metadata": {},
   "source": [
    "In this notebook, Data Science Tools and Ecosystem are summarized."
   ]
  },
  {
   "cell_type": "markdown",
   "id": "93a47e0f-e342-4bdb-a3a1-c122a1340eab",
   "metadata": {},
   "source": [
    "**Objectives**\n",
    "- List popular languages for Data Science\n",
    "- List some commonly used libraries by Data Scientists\n",
    "- List some open source development environments used in Data Science\n",
    "- Show how to perform simple arithmetic expression"
   ]
  },
  {
   "cell_type": "markdown",
   "id": "b5988feb-fd9a-45c0-8385-fa04c7296ad7",
   "metadata": {},
   "source": [
    "Some of the popular languages that Data Scientists use are\n",
    "1. R\n",
    "2. Python\n",
    "3. Scala\n",
    "4. Java\n",
    "5. C++"
   ]
  },
  {
   "cell_type": "markdown",
   "id": "96c14892-859f-4af6-ad40-50075b6596e0",
   "metadata": {},
   "source": [
    "Some of the commonly used libraries used by Data Scientists include:\n",
    "1. R libraries\n",
    "2. SCALA libraries Vegas\n",
    "3. Pandas\n",
    "4. Numpy\n",
    "5. Matplolib\n",
    "6. Seaborn"
   ]
  },
  {
   "cell_type": "markdown",
   "id": "6e5028ad-c960-49e4-a6be-75d4936bbdbc",
   "metadata": {},
   "source": [
    "|Data Science Tools|\n",
    "|--------------------|\n",
    "|Jupyter IDE|\n",
    "|RStudio|\n",
    "|Spyder|\n",
    "|Ray|\n",
    "|Apache Spark|\n"
   ]
  },
  {
   "cell_type": "markdown",
   "id": "1bbeb646-827b-41b8-bc77-e224d98a6c55",
   "metadata": {},
   "source": [
    "### Below are a few examples of evaluating arithmetic expression in Python\n",
    "- x + y\n",
    "- z - y\n",
    "- a * b"
   ]
  },
  {
   "cell_type": "code",
   "execution_count": 28,
   "id": "bc3d93dd-bc4e-4ea5-a252-03aa505f2c41",
   "metadata": {},
   "outputs": [
    {
     "data": {
      "text/plain": [
       "17"
      ]
     },
     "execution_count": 28,
     "metadata": {},
     "output_type": "execute_result"
    }
   ],
   "source": [
    "# This is a simple arithmetic expression to multiply then add intergers\n",
    "\n",
    "(3 * 4) + 5"
   ]
  },
  {
   "cell_type": "code",
   "execution_count": 30,
   "id": "40ea8948-0aab-47ca-ac09-c876e4a157f2",
   "metadata": {},
   "outputs": [
    {
     "data": {
      "text/plain": [
       "3.3333333333333335"
      ]
     },
     "execution_count": 30,
     "metadata": {},
     "output_type": "execute_result"
    }
   ],
   "source": [
    "# This will convert 200 minutes to hours by divinding by 60\n",
    "\n",
    "200/60"
   ]
  },
  {
   "cell_type": "markdown",
   "id": "35ae4692-3342-4ba6-a82d-e7742aa3407d",
   "metadata": {},
   "source": [
    "## Author\n",
    "Gideon Ofosu-Budu"
   ]
  },
  {
   "cell_type": "code",
   "execution_count": null,
   "id": "fcd3077e-7827-4b1a-83a0-a3bd43bf1616",
   "metadata": {},
   "outputs": [],
   "source": []
  }
 ],
 "metadata": {
  "kernelspec": {
   "display_name": "Python [conda env:Test]",
   "language": "python",
   "name": "conda-env-Test-py"
  },
  "language_info": {
   "codemirror_mode": {
    "name": "ipython",
    "version": 3
   },
   "file_extension": ".py",
   "mimetype": "text/x-python",
   "name": "python",
   "nbconvert_exporter": "python",
   "pygments_lexer": "ipython3",
   "version": "3.12.8"
  }
 },
 "nbformat": 4,
 "nbformat_minor": 5
}
